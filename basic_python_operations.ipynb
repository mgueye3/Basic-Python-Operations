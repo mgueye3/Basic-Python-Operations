{
 "cells": [
  {
   "cell_type": "markdown",
   "id": "12382211-170e-44ff-95a9-3030a0cccd36",
   "metadata": {},
   "source": [
    "**Description:**\n",
    "\n",
    "This script performs basic Python operations, including:\n",
    "1. Displaying New Year greetings.\n",
    "2. Performing a mathematical expression evaluation.\n",
    "3. Calculating Body Mass Index (BMI)."
   ]
  },
  {
   "cell_type": "code",
   "execution_count": 1,
   "id": "9611812d-410d-4aa9-8807-bafce3a26674",
   "metadata": {},
   "outputs": [],
   "source": [
    "def display_greetings():\n",
    "    \"\"\"Prints New Year greetings and a welcome message.\"\"\"\n",
    "    print(\"Happy 2024\")\n",
    "    print(\"Have a joyful new year!\")\n",
    "    print(\"Welcome to the Python world\")\n",
    "    print(\"Written in Python\")\n",
    "\n"
   ]
  },
  {
   "cell_type": "code",
   "execution_count": 2,
   "id": "7912844b-768b-41db-8c52-5850ae5a640d",
   "metadata": {},
   "outputs": [],
   "source": [
    "def evaluate_expression():\n",
    "    \"\"\"Evaluates a mathematical expression.\"\"\"\n",
    "    num = (12 * 3.5) + 3\n",
    "    den = 45 - (3 / 18)\n",
    "    result = num / den\n",
    "    print(f\"Result of the mathematical expression: {result:.2f}\")\n",
    "\n"
   ]
  },
  {
   "cell_type": "code",
   "execution_count": 4,
   "id": "8e149227-1201-495f-b21d-97a7c59c3132",
   "metadata": {},
   "outputs": [],
   "source": [
    "def calculate_bmi(weight: float, height: float):\n",
    "    \"\"\"Calculates BMI using the standard formula.\"\"\"\n",
    "    bmi = 703 * (weight / (height ** 2))\n",
    "    print(f\"Calculated BMI: {bmi:.2f}\")\n",
    "\n"
   ]
  },
  {
   "cell_type": "code",
   "execution_count": null,
   "id": "0b65b8fa-3c96-4848-b8d4-a077332236fa",
   "metadata": {},
   "outputs": [],
   "source": [
    "def main():\n",
    "    \"\"\"Main function to execute operations.\"\"\"\n",
    "    display_greetings()\n",
    "    evaluate_expression()\n",
    "    \n",
    "    try:\n",
    "        weight = float(input(\"Enter weight (in pounds): \"))\n",
    "        height = float(input(\"Enter height (in inches): \"))\n",
    "        calculate_bmi(weight, height)\n",
    "    except ValueError:\n",
    "        print(\"Invalid input. Please enter numeric values for weight and height.\")\n",
    "\n",
    "if __name__ == \"__main__\":\n",
    "    main()"
   ]
  }
 ],
 "metadata": {
  "kernelspec": {
   "display_name": "Python 3 (ipykernel)",
   "language": "python",
   "name": "python3"
  },
  "language_info": {
   "codemirror_mode": {
    "name": "ipython",
    "version": 3
   },
   "file_extension": ".py",
   "mimetype": "text/x-python",
   "name": "python",
   "nbconvert_exporter": "python",
   "pygments_lexer": "ipython3",
   "version": "3.13.2"
  }
 },
 "nbformat": 4,
 "nbformat_minor": 5
}
